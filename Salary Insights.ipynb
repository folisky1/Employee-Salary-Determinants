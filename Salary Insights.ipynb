{
 "cells": [
  {
   "cell_type": "markdown",
   "id": "897f4e9b",
   "metadata": {},
   "source": [
    "## Employee Salary Determinants Analysis\n",
    "This project explores the various factors that shape an employee's earning potential, delving into the key determinants such as education level, job role, experience, etc. By analyzing these elements, we aim to uncover valuable insights and offer actionable recommendations to help employees enhance their earning potential.\n",
    "\n",
    "We will answer the following research questions:\n",
    "1. Which age group has the highest median salary?\n",
    "2. Which gender has the highest median salary?\n",
    "3. Which education Level commands the highest median salary?\n",
    "4. Which job role earns the highest median salary?\n",
    "5. What is the prevalent education level among the top earning professionals?\n",
    "6. Are there any correlations between Age, Salary and working experience?\n",
    "\n",
    "\n",
    "We will beign our analysis by importing the required libraries"
   ]
  },
  {
   "cell_type": "code",
   "execution_count": 211,
   "id": "e444735d",
   "metadata": {},
   "outputs": [],
   "source": [
    "# Import the required libraries\n",
    "import numpy as np\n",
    "import pandas as pd\n",
    "import matplotlib.pyplot as plt\n",
    "import seaborn as sns"
   ]
  },
  {
   "cell_type": "code",
   "execution_count": 212,
   "id": "fe7d78b6",
   "metadata": {},
   "outputs": [],
   "source": [
    "# load the data into pandas dataframe\n",
    "salary_data = pd.read_csv('Salary_Data.csv')"
   ]
  },
  {
   "cell_type": "code",
   "execution_count": 213,
   "id": "96a9908c",
   "metadata": {},
   "outputs": [
    {
     "data": {
      "text/html": [
       "<div>\n",
       "<style scoped>\n",
       "    .dataframe tbody tr th:only-of-type {\n",
       "        vertical-align: middle;\n",
       "    }\n",
       "\n",
       "    .dataframe tbody tr th {\n",
       "        vertical-align: top;\n",
       "    }\n",
       "\n",
       "    .dataframe thead th {\n",
       "        text-align: right;\n",
       "    }\n",
       "</style>\n",
       "<table border=\"1\" class=\"dataframe\">\n",
       "  <thead>\n",
       "    <tr style=\"text-align: right;\">\n",
       "      <th></th>\n",
       "      <th>Age</th>\n",
       "      <th>Gender</th>\n",
       "      <th>Education Level</th>\n",
       "      <th>Job Title</th>\n",
       "      <th>Years of Experience</th>\n",
       "      <th>Salary</th>\n",
       "    </tr>\n",
       "  </thead>\n",
       "  <tbody>\n",
       "    <tr>\n",
       "      <th>0</th>\n",
       "      <td>32.0</td>\n",
       "      <td>Male</td>\n",
       "      <td>Bachelor's</td>\n",
       "      <td>Software Engineer</td>\n",
       "      <td>5.0</td>\n",
       "      <td>90000.0</td>\n",
       "    </tr>\n",
       "    <tr>\n",
       "      <th>1</th>\n",
       "      <td>28.0</td>\n",
       "      <td>Female</td>\n",
       "      <td>Master's</td>\n",
       "      <td>Data Analyst</td>\n",
       "      <td>3.0</td>\n",
       "      <td>65000.0</td>\n",
       "    </tr>\n",
       "    <tr>\n",
       "      <th>2</th>\n",
       "      <td>45.0</td>\n",
       "      <td>Male</td>\n",
       "      <td>PhD</td>\n",
       "      <td>Senior Manager</td>\n",
       "      <td>15.0</td>\n",
       "      <td>150000.0</td>\n",
       "    </tr>\n",
       "    <tr>\n",
       "      <th>3</th>\n",
       "      <td>36.0</td>\n",
       "      <td>Female</td>\n",
       "      <td>Bachelor's</td>\n",
       "      <td>Sales Associate</td>\n",
       "      <td>7.0</td>\n",
       "      <td>60000.0</td>\n",
       "    </tr>\n",
       "    <tr>\n",
       "      <th>4</th>\n",
       "      <td>52.0</td>\n",
       "      <td>Male</td>\n",
       "      <td>Master's</td>\n",
       "      <td>Director</td>\n",
       "      <td>20.0</td>\n",
       "      <td>200000.0</td>\n",
       "    </tr>\n",
       "  </tbody>\n",
       "</table>\n",
       "</div>"
      ],
      "text/plain": [
       "    Age  Gender Education Level          Job Title  Years of Experience  \\\n",
       "0  32.0    Male      Bachelor's  Software Engineer                  5.0   \n",
       "1  28.0  Female        Master's       Data Analyst                  3.0   \n",
       "2  45.0    Male             PhD     Senior Manager                 15.0   \n",
       "3  36.0  Female      Bachelor's    Sales Associate                  7.0   \n",
       "4  52.0    Male        Master's           Director                 20.0   \n",
       "\n",
       "     Salary  \n",
       "0   90000.0  \n",
       "1   65000.0  \n",
       "2  150000.0  \n",
       "3   60000.0  \n",
       "4  200000.0  "
      ]
     },
     "execution_count": 213,
     "metadata": {},
     "output_type": "execute_result"
    }
   ],
   "source": [
    "# Get the five rows of the dataframe\n",
    "salary_data.head()"
   ]
  },
  {
   "cell_type": "code",
   "execution_count": 214,
   "id": "56646e77",
   "metadata": {},
   "outputs": [
    {
     "data": {
      "text/html": [
       "<div>\n",
       "<style scoped>\n",
       "    .dataframe tbody tr th:only-of-type {\n",
       "        vertical-align: middle;\n",
       "    }\n",
       "\n",
       "    .dataframe tbody tr th {\n",
       "        vertical-align: top;\n",
       "    }\n",
       "\n",
       "    .dataframe thead th {\n",
       "        text-align: right;\n",
       "    }\n",
       "</style>\n",
       "<table border=\"1\" class=\"dataframe\">\n",
       "  <thead>\n",
       "    <tr style=\"text-align: right;\">\n",
       "      <th></th>\n",
       "      <th>Age</th>\n",
       "      <th>Gender</th>\n",
       "      <th>Education Level</th>\n",
       "      <th>Job Title</th>\n",
       "      <th>Years of Experience</th>\n",
       "      <th>Salary</th>\n",
       "    </tr>\n",
       "  </thead>\n",
       "  <tbody>\n",
       "    <tr>\n",
       "      <th>6699</th>\n",
       "      <td>49.0</td>\n",
       "      <td>Female</td>\n",
       "      <td>PhD</td>\n",
       "      <td>Director of Marketing</td>\n",
       "      <td>20.0</td>\n",
       "      <td>200000.0</td>\n",
       "    </tr>\n",
       "    <tr>\n",
       "      <th>6700</th>\n",
       "      <td>32.0</td>\n",
       "      <td>Male</td>\n",
       "      <td>High School</td>\n",
       "      <td>Sales Associate</td>\n",
       "      <td>3.0</td>\n",
       "      <td>50000.0</td>\n",
       "    </tr>\n",
       "    <tr>\n",
       "      <th>6701</th>\n",
       "      <td>30.0</td>\n",
       "      <td>Female</td>\n",
       "      <td>Bachelor's Degree</td>\n",
       "      <td>Financial Manager</td>\n",
       "      <td>4.0</td>\n",
       "      <td>55000.0</td>\n",
       "    </tr>\n",
       "    <tr>\n",
       "      <th>6702</th>\n",
       "      <td>46.0</td>\n",
       "      <td>Male</td>\n",
       "      <td>Master's Degree</td>\n",
       "      <td>Marketing Manager</td>\n",
       "      <td>14.0</td>\n",
       "      <td>140000.0</td>\n",
       "    </tr>\n",
       "    <tr>\n",
       "      <th>6703</th>\n",
       "      <td>26.0</td>\n",
       "      <td>Female</td>\n",
       "      <td>High School</td>\n",
       "      <td>Sales Executive</td>\n",
       "      <td>1.0</td>\n",
       "      <td>35000.0</td>\n",
       "    </tr>\n",
       "  </tbody>\n",
       "</table>\n",
       "</div>"
      ],
      "text/plain": [
       "       Age  Gender    Education Level              Job Title  \\\n",
       "6699  49.0  Female                PhD  Director of Marketing   \n",
       "6700  32.0    Male        High School        Sales Associate   \n",
       "6701  30.0  Female  Bachelor's Degree      Financial Manager   \n",
       "6702  46.0    Male    Master's Degree      Marketing Manager   \n",
       "6703  26.0  Female        High School        Sales Executive   \n",
       "\n",
       "      Years of Experience    Salary  \n",
       "6699                 20.0  200000.0  \n",
       "6700                  3.0   50000.0  \n",
       "6701                  4.0   55000.0  \n",
       "6702                 14.0  140000.0  \n",
       "6703                  1.0   35000.0  "
      ]
     },
     "execution_count": 214,
     "metadata": {},
     "output_type": "execute_result"
    }
   ],
   "source": [
    "# Get the last five rows of the dataframe\n",
    "salary_data.tail()"
   ]
  },
  {
   "cell_type": "code",
   "execution_count": 215,
   "id": "65ef3ac8",
   "metadata": {},
   "outputs": [
    {
     "name": "stdout",
     "output_type": "stream",
     "text": [
      "<class 'pandas.core.frame.DataFrame'>\n",
      "RangeIndex: 6704 entries, 0 to 6703\n",
      "Data columns (total 6 columns):\n",
      " #   Column               Non-Null Count  Dtype  \n",
      "---  ------               --------------  -----  \n",
      " 0   Age                  6702 non-null   float64\n",
      " 1   Gender               6702 non-null   object \n",
      " 2   Education Level      6701 non-null   object \n",
      " 3   Job Title            6702 non-null   object \n",
      " 4   Years of Experience  6701 non-null   float64\n",
      " 5   Salary               6699 non-null   float64\n",
      "dtypes: float64(3), object(3)\n",
      "memory usage: 314.4+ KB\n"
     ]
    }
   ],
   "source": [
    "# Show basic info about the dataframe\n",
    "salary_data.info()"
   ]
  },
  {
   "cell_type": "code",
   "execution_count": 216,
   "id": "62f9100b",
   "metadata": {},
   "outputs": [
    {
     "data": {
      "text/plain": [
       "(6704, 6)"
      ]
     },
     "execution_count": 216,
     "metadata": {},
     "output_type": "execute_result"
    }
   ],
   "source": [
    "# Show the shape of the dataframe\n",
    "salary_data.shape"
   ]
  },
  {
   "cell_type": "code",
   "execution_count": 217,
   "id": "42b95f02",
   "metadata": {},
   "outputs": [
    {
     "data": {
      "text/html": [
       "<div>\n",
       "<style scoped>\n",
       "    .dataframe tbody tr th:only-of-type {\n",
       "        vertical-align: middle;\n",
       "    }\n",
       "\n",
       "    .dataframe tbody tr th {\n",
       "        vertical-align: top;\n",
       "    }\n",
       "\n",
       "    .dataframe thead th {\n",
       "        text-align: right;\n",
       "    }\n",
       "</style>\n",
       "<table border=\"1\" class=\"dataframe\">\n",
       "  <thead>\n",
       "    <tr style=\"text-align: right;\">\n",
       "      <th></th>\n",
       "      <th>Age</th>\n",
       "      <th>Years of Experience</th>\n",
       "      <th>Salary</th>\n",
       "    </tr>\n",
       "  </thead>\n",
       "  <tbody>\n",
       "    <tr>\n",
       "      <th>count</th>\n",
       "      <td>6702.000000</td>\n",
       "      <td>6701.000000</td>\n",
       "      <td>6699.000000</td>\n",
       "    </tr>\n",
       "    <tr>\n",
       "      <th>mean</th>\n",
       "      <td>33.620859</td>\n",
       "      <td>8.094687</td>\n",
       "      <td>115326.964771</td>\n",
       "    </tr>\n",
       "    <tr>\n",
       "      <th>std</th>\n",
       "      <td>7.614633</td>\n",
       "      <td>6.059003</td>\n",
       "      <td>52786.183911</td>\n",
       "    </tr>\n",
       "    <tr>\n",
       "      <th>min</th>\n",
       "      <td>21.000000</td>\n",
       "      <td>0.000000</td>\n",
       "      <td>350.000000</td>\n",
       "    </tr>\n",
       "    <tr>\n",
       "      <th>25%</th>\n",
       "      <td>28.000000</td>\n",
       "      <td>3.000000</td>\n",
       "      <td>70000.000000</td>\n",
       "    </tr>\n",
       "    <tr>\n",
       "      <th>50%</th>\n",
       "      <td>32.000000</td>\n",
       "      <td>7.000000</td>\n",
       "      <td>115000.000000</td>\n",
       "    </tr>\n",
       "    <tr>\n",
       "      <th>75%</th>\n",
       "      <td>38.000000</td>\n",
       "      <td>12.000000</td>\n",
       "      <td>160000.000000</td>\n",
       "    </tr>\n",
       "    <tr>\n",
       "      <th>max</th>\n",
       "      <td>62.000000</td>\n",
       "      <td>34.000000</td>\n",
       "      <td>250000.000000</td>\n",
       "    </tr>\n",
       "  </tbody>\n",
       "</table>\n",
       "</div>"
      ],
      "text/plain": [
       "               Age  Years of Experience         Salary\n",
       "count  6702.000000          6701.000000    6699.000000\n",
       "mean     33.620859             8.094687  115326.964771\n",
       "std       7.614633             6.059003   52786.183911\n",
       "min      21.000000             0.000000     350.000000\n",
       "25%      28.000000             3.000000   70000.000000\n",
       "50%      32.000000             7.000000  115000.000000\n",
       "75%      38.000000            12.000000  160000.000000\n",
       "max      62.000000            34.000000  250000.000000"
      ]
     },
     "execution_count": 217,
     "metadata": {},
     "output_type": "execute_result"
    }
   ],
   "source": [
    "# Show the summary statistics of the dataframe\n",
    "salary_data.describe()"
   ]
  },
  {
   "cell_type": "markdown",
   "id": "b6993757",
   "metadata": {},
   "source": [
    "To ensure the data is accurate and reliable, we will conduct a thorough check on the dataframe. This involves looking for any missing values or duplicate entries. If we find any issues, we'll take the necessary steps to fix them, making sure the data is trustworthy"
   ]
  },
  {
   "cell_type": "code",
   "execution_count": 218,
   "id": "e847a564",
   "metadata": {},
   "outputs": [
    {
     "data": {
      "text/plain": [
       "Age                    True\n",
       "Gender                 True\n",
       "Education Level        True\n",
       "Job Title              True\n",
       "Years of Experience    True\n",
       "Salary                 True\n",
       "dtype: bool"
      ]
     },
     "execution_count": 218,
     "metadata": {},
     "output_type": "execute_result"
    }
   ],
   "source": [
    "# Inspect the dataframe for missing values\n",
    "salary_data.isnull().any()"
   ]
  },
  {
   "cell_type": "code",
   "execution_count": 219,
   "id": "bfc3837a",
   "metadata": {},
   "outputs": [
    {
     "data": {
      "text/html": [
       "<div>\n",
       "<style scoped>\n",
       "    .dataframe tbody tr th:only-of-type {\n",
       "        vertical-align: middle;\n",
       "    }\n",
       "\n",
       "    .dataframe tbody tr th {\n",
       "        vertical-align: top;\n",
       "    }\n",
       "\n",
       "    .dataframe thead th {\n",
       "        text-align: right;\n",
       "    }\n",
       "</style>\n",
       "<table border=\"1\" class=\"dataframe\">\n",
       "  <thead>\n",
       "    <tr style=\"text-align: right;\">\n",
       "      <th></th>\n",
       "      <th>Age</th>\n",
       "      <th>Gender</th>\n",
       "      <th>Education Level</th>\n",
       "      <th>Job Title</th>\n",
       "      <th>Years of Experience</th>\n",
       "      <th>Salary</th>\n",
       "    </tr>\n",
       "  </thead>\n",
       "  <tbody>\n",
       "    <tr>\n",
       "      <th>172</th>\n",
       "      <td>NaN</td>\n",
       "      <td>NaN</td>\n",
       "      <td>NaN</td>\n",
       "      <td>NaN</td>\n",
       "      <td>NaN</td>\n",
       "      <td>NaN</td>\n",
       "    </tr>\n",
       "    <tr>\n",
       "      <th>260</th>\n",
       "      <td>NaN</td>\n",
       "      <td>NaN</td>\n",
       "      <td>NaN</td>\n",
       "      <td>NaN</td>\n",
       "      <td>NaN</td>\n",
       "      <td>NaN</td>\n",
       "    </tr>\n",
       "  </tbody>\n",
       "</table>\n",
       "</div>"
      ],
      "text/plain": [
       "     Age Gender Education Level Job Title  Years of Experience  Salary\n",
       "172  NaN    NaN             NaN       NaN                  NaN     NaN\n",
       "260  NaN    NaN             NaN       NaN                  NaN     NaN"
      ]
     },
     "execution_count": 219,
     "metadata": {},
     "output_type": "execute_result"
    }
   ],
   "source": [
    "# Display the missing values for examination\n",
    "salary_data[salary_data['Age'].isnull()]"
   ]
  },
  {
   "cell_type": "markdown",
   "id": "4e7409a9",
   "metadata": {},
   "source": [
    "From the above operations, it is certain that the dataframe contains missing values."
   ]
  },
  {
   "cell_type": "code",
   "execution_count": 220,
   "id": "9819d586",
   "metadata": {},
   "outputs": [
    {
     "data": {
      "text/plain": [
       "True"
      ]
     },
     "execution_count": 220,
     "metadata": {},
     "output_type": "execute_result"
    }
   ],
   "source": [
    "# Check the dataframe for duplicate entries\n",
    "salary_data.duplicated().any()"
   ]
  },
  {
   "cell_type": "markdown",
   "id": "2977ed6b",
   "metadata": {},
   "source": [
    "The operation above confirms the presence of duplicate entries in the dataframe\n",
    "\n",
    "Now that we've identified both missing values and duplicates in the dataframe, the necessary steps will be taken to address them to ensure accurate analysis"
   ]
  },
  {
   "cell_type": "markdown",
   "id": "f8a0ddac",
   "metadata": {},
   "source": [
    "Before we start cleaning and analyzing the data, we'll make a copy of the original dataframe to protect its integrity. This copy will serve as a backup in case we encounter any data loss or accidental changes while working on the analysis."
   ]
  },
  {
   "cell_type": "code",
   "execution_count": 221,
   "id": "6c57eeb1",
   "metadata": {},
   "outputs": [],
   "source": [
    "# Make a copy of the data\n",
    "salary_data_backup = salary_data.copy()"
   ]
  },
  {
   "cell_type": "code",
   "execution_count": 222,
   "id": "0fc8bb1e",
   "metadata": {},
   "outputs": [
    {
     "data": {
      "text/html": [
       "<div>\n",
       "<style scoped>\n",
       "    .dataframe tbody tr th:only-of-type {\n",
       "        vertical-align: middle;\n",
       "    }\n",
       "\n",
       "    .dataframe tbody tr th {\n",
       "        vertical-align: top;\n",
       "    }\n",
       "\n",
       "    .dataframe thead th {\n",
       "        text-align: right;\n",
       "    }\n",
       "</style>\n",
       "<table border=\"1\" class=\"dataframe\">\n",
       "  <thead>\n",
       "    <tr style=\"text-align: right;\">\n",
       "      <th></th>\n",
       "      <th>Age</th>\n",
       "      <th>Gender</th>\n",
       "      <th>Education Level</th>\n",
       "      <th>Job Title</th>\n",
       "      <th>Years of Experience</th>\n",
       "      <th>Salary</th>\n",
       "    </tr>\n",
       "  </thead>\n",
       "  <tbody>\n",
       "    <tr>\n",
       "      <th>172</th>\n",
       "      <td>NaN</td>\n",
       "      <td>NaN</td>\n",
       "      <td>NaN</td>\n",
       "      <td>NaN</td>\n",
       "      <td>NaN</td>\n",
       "      <td>NaN</td>\n",
       "    </tr>\n",
       "    <tr>\n",
       "      <th>260</th>\n",
       "      <td>NaN</td>\n",
       "      <td>NaN</td>\n",
       "      <td>NaN</td>\n",
       "      <td>NaN</td>\n",
       "      <td>NaN</td>\n",
       "      <td>NaN</td>\n",
       "    </tr>\n",
       "  </tbody>\n",
       "</table>\n",
       "</div>"
      ],
      "text/plain": [
       "     Age Gender Education Level Job Title  Years of Experience  Salary\n",
       "172  NaN    NaN             NaN       NaN                  NaN     NaN\n",
       "260  NaN    NaN             NaN       NaN                  NaN     NaN"
      ]
     },
     "execution_count": 222,
     "metadata": {},
     "output_type": "execute_result"
    }
   ],
   "source": [
    "# Display the empty rows\n",
    "salary_data_backup[salary_data_backup['Age'].isnull()]"
   ]
  },
  {
   "cell_type": "code",
   "execution_count": 223,
   "id": "214fe7b1",
   "metadata": {},
   "outputs": [],
   "source": [
    "# Drop the empty rows\n",
    "salary_data_backup = salary_data_backup.drop([172, 260])"
   ]
  },
  {
   "cell_type": "code",
   "execution_count": 224,
   "id": "9705cfcf",
   "metadata": {},
   "outputs": [
    {
     "data": {
      "text/plain": [
       "Age                    False\n",
       "Gender                 False\n",
       "Education Level         True\n",
       "Job Title              False\n",
       "Years of Experience     True\n",
       "Salary                  True\n",
       "dtype: bool"
      ]
     },
     "execution_count": 224,
     "metadata": {},
     "output_type": "execute_result"
    }
   ],
   "source": [
    "# Check the dataframe for missing values \n",
    "salary_data_backup.isnull().any()"
   ]
  },
  {
   "cell_type": "markdown",
   "id": "8b9a69dd",
   "metadata": {},
   "source": [
    "Examining the result above, we can see that row-wise missing values have been  addressed. However, there are still column-specific missing values. We'll now address these as well.\n",
    "\n",
    "First, we'll handle the missing values in the \"salary\" column"
   ]
  },
  {
   "cell_type": "markdown",
   "id": "031039e9",
   "metadata": {},
   "source": [
    "We're filling in the missing values in the 'Salary' column with the median. Using the median is a robust approach for handling missing values in salary data because it's not influenced by extreme values, which can skew other statistical measures like the mean"
   ]
  },
  {
   "cell_type": "code",
   "execution_count": 225,
   "id": "0fc6b2a7",
   "metadata": {},
   "outputs": [
    {
     "data": {
      "text/plain": [
       "115000.0"
      ]
     },
     "execution_count": 225,
     "metadata": {},
     "output_type": "execute_result"
    }
   ],
   "source": [
    "# Get the median salary\n",
    "salary_data_backup['Salary'].median()"
   ]
  },
  {
   "cell_type": "code",
   "execution_count": 226,
   "id": "e9987633",
   "metadata": {},
   "outputs": [
    {
     "data": {
      "text/plain": [
       "Age                    False\n",
       "Gender                 False\n",
       "Education Level         True\n",
       "Job Title              False\n",
       "Years of Experience     True\n",
       "Salary                 False\n",
       "dtype: bool"
      ]
     },
     "execution_count": 226,
     "metadata": {},
     "output_type": "execute_result"
    }
   ],
   "source": [
    "# Fill in the missing values with the median \n",
    "salary_data_backup['Salary'] = salary_data_backup['Salary'].fillna(115000)\n",
    "salary_data_backup.isnull().any()"
   ]
  },
  {
   "cell_type": "markdown",
   "id": "1e2b6b52",
   "metadata": {},
   "source": [
    "The result above shows that the \"Salary\" column does not contain null anymore. Next, we'll handle the null in the \"Years of Experience\" and \"Education\"columns"
   ]
  },
  {
   "cell_type": "code",
   "execution_count": 227,
   "id": "49746cd1",
   "metadata": {},
   "outputs": [
    {
     "data": {
      "text/plain": [
       "8"
      ]
     },
     "execution_count": 227,
     "metadata": {},
     "output_type": "execute_result"
    }
   ],
   "source": [
    "# Get the average of the Years of Experience\n",
    "avg_exp = round(salary_data_backup['Years of Experience'].mean())\n",
    "avg_exp"
   ]
  },
  {
   "cell_type": "code",
   "execution_count": 228,
   "id": "835d552c",
   "metadata": {},
   "outputs": [
    {
     "data": {
      "text/plain": [
       "Age                    False\n",
       "Gender                 False\n",
       "Education Level         True\n",
       "Job Title              False\n",
       "Years of Experience    False\n",
       "Salary                 False\n",
       "dtype: bool"
      ]
     },
     "execution_count": 228,
     "metadata": {},
     "output_type": "execute_result"
    }
   ],
   "source": [
    "# Fill in the missing value \"Years of Experience\" column with average\n",
    "salary_data_backup['Years of Experience'] = salary_data_backup['Years of Experience'].fillna(avg_exp)\n",
    "salary_data_backup.isnull().any()"
   ]
  },
  {
   "cell_type": "markdown",
   "id": "e1fbfc24",
   "metadata": {},
   "source": [
    "We'll fill in the missing values in the \"Education Level\" column with the mode. Since 'Education Level' is a categorical variable, using the mode is a common practice to handle missing values in categorical data. The mode represents the most frequently occurring value in the column, making it a suitable choice for imputing missing values in this context."
   ]
  },
  {
   "cell_type": "code",
   "execution_count": 229,
   "id": "b778c941",
   "metadata": {},
   "outputs": [
    {
     "data": {
      "text/plain": [
       "0    Bachelor's Degree\n",
       "dtype: object"
      ]
     },
     "execution_count": 229,
     "metadata": {},
     "output_type": "execute_result"
    }
   ],
   "source": [
    "# Get the mode of the \"Education Level\"\n",
    "edu_mode = salary_data_backup['Education Level'].mode()\n",
    "edu_mode"
   ]
  },
  {
   "cell_type": "code",
   "execution_count": 230,
   "id": "6813b2cf",
   "metadata": {},
   "outputs": [
    {
     "data": {
      "text/plain": [
       "Age                    False\n",
       "Gender                 False\n",
       "Education Level        False\n",
       "Job Title              False\n",
       "Years of Experience    False\n",
       "Salary                 False\n",
       "dtype: bool"
      ]
     },
     "execution_count": 230,
     "metadata": {},
     "output_type": "execute_result"
    }
   ],
   "source": [
    "# Fill in the missing value in the \"Education Level\" with the mode\n",
    "salary_data_backup['Education Level'] = salary_data_backup['Education Level'].fillna(\"Bachelor's Degree\")\n",
    "salary_data_backup.isnull().any()"
   ]
  },
  {
   "cell_type": "markdown",
   "id": "f73c4de3",
   "metadata": {},
   "source": [
    "The result of the operation above shows that the dataframe no longer contains missing values. The next thing we will do is to handle the duplicate entries in the dataframe`"
   ]
  },
  {
   "cell_type": "code",
   "execution_count": 231,
   "id": "3a8e50fc",
   "metadata": {},
   "outputs": [
    {
     "data": {
      "text/plain": [
       "4911"
      ]
     },
     "execution_count": 231,
     "metadata": {},
     "output_type": "execute_result"
    }
   ],
   "source": [
    "# Check the dataframe for duplicates\n",
    "salary_data_backup.duplicated().sum()"
   ]
  },
  {
   "cell_type": "code",
   "execution_count": 232,
   "id": "2267e36f",
   "metadata": {},
   "outputs": [
    {
     "data": {
      "text/plain": [
       "0"
      ]
     },
     "execution_count": 232,
     "metadata": {},
     "output_type": "execute_result"
    }
   ],
   "source": [
    "# Drop the duplicates from the dataframe\n",
    "salary_data_backup = salary_data_backup.drop_duplicates()\n",
    "salary_data_backup.duplicated().sum() # check the dataframe for duplicates"
   ]
  },
  {
   "cell_type": "markdown",
   "id": "7ceef889",
   "metadata": {},
   "source": [
    "The result of the operation above confirms that there are no duplicate entries in the dataframe. Therefore we can proceed with our analysis."
   ]
  },
  {
   "cell_type": "markdown",
   "id": "f27c9bfa",
   "metadata": {},
   "source": [
    "Next, as part of our data cleaning steps, we'll check for outliers in the numerical columns namely the \"Age\", \"Salary\" and \"Years of Experience\" columns"
   ]
  },
  {
   "cell_type": "code",
   "execution_count": 233,
   "id": "b0f8d8d1",
   "metadata": {},
   "outputs": [
    {
     "data": {
      "image/png": "[encoded data removed]",
      "text/plain": [
       "<Figure size 720x432 with 3 Axes>"
      ]
     },
     "metadata": {},
     "output_type": "display_data"
    }
   ],
   "source": [
    "# Check the aforementioned columns for the outliers\n",
    "fig, ax = plt.subplots(nrows=1, ncols=3, figsize=(10, 6))\n",
    "sns.boxplot(data=salary_data_backup, x='Age', ax=ax[0])\n",
    "sns.boxplot(data=salary_data_backup, x='Years of Experience', ax=ax[1])\n",
    "sns.boxplot(data=salary_data_backup, x='Salary', ax=ax[2]);"
   ]
  },
  {
   "cell_type": "markdown",
   "id": "4f6f3907",
   "metadata": {},
   "source": [
    "The presence of outliers in the 'Age' and 'Years of Experience' columns is expected in real-world employee data. With a minimum age of 21 and a maximum of 62, these extreme values are considered valid as they reflect the diversity of employee ages. Similarly, outliers indicating 30 or more years of experience are common in the workforce, making them relevant and valid data points"
   ]
  },
  {
   "cell_type": "markdown",
   "id": "9f7b6dfe",
   "metadata": {},
   "source": [
    "While reviewing the data, I noticed that the  'Education Level' column contains duplicates for the same education levels, like 'Bachelor's' and 'Bachelor's Degree', etc. To ensure data consistency, we will standardize these representations. Here's a visual representation of the issue:"
   ]
  },
  {
   "cell_type": "code",
   "execution_count": 234,
   "id": "8413585c",
   "metadata": {},
   "outputs": [
    {
     "data": {
      "text/plain": [
       "array([\"Bachelor's\", \"Master's\", 'PhD', \"Bachelor's Degree\",\n",
       "       \"Master's Degree\", 'High School', 'phD'], dtype=object)"
      ]
     },
     "execution_count": 234,
     "metadata": {},
     "output_type": "execute_result"
    }
   ],
   "source": [
    "# Get the unique values in the 'Education level' column\n",
    "salary_data_backup['Education Level'].unique()"
   ]
  },
  {
   "cell_type": "code",
   "execution_count": 235,
   "id": "05184572",
   "metadata": {},
   "outputs": [],
   "source": [
    "# Standardize the values in the 'Education Level' column \n",
    "salary_data_backup['Qualification'] = salary_data_backup['Education Level'].apply(\n",
    "lambda x: \"Bachelor's\" if x ==\"Bachelor's Degree\" else(\"Master's\" if x == \"Master's Degree\" else('PhD' if x == 'phD' else x)))"
   ]
  },
  {
   "cell_type": "code",
   "execution_count": 236,
   "id": "43f8692f",
   "metadata": {},
   "outputs": [
    {
     "data": {
      "text/plain": [
       "array([\"Bachelor's\", \"Master's\", 'PhD', 'High School'], dtype=object)"
      ]
     },
     "execution_count": 236,
     "metadata": {},
     "output_type": "execute_result"
    }
   ],
   "source": [
    "# Get the unique values in the 'Qualification' column\n",
    "salary_data_backup['Qualification'].unique()"
   ]
  },
  {
   "cell_type": "markdown",
   "id": "4b3b31fd",
   "metadata": {},
   "source": [
    "To maintain data clarity and avoid redundancy, we have opted to remove the 'Education Level' column, ensuring a more streamlined and informative dataset."
   ]
  },
  {
   "cell_type": "code",
   "execution_count": 237,
   "id": "917f5e98",
   "metadata": {},
   "outputs": [],
   "source": [
    "# Drop the 'Education Level' column\n",
    "salary_data_backup = salary_data_backup.drop('Education Level', axis=1)"
   ]
  },
  {
   "cell_type": "markdown",
   "id": "943054c7",
   "metadata": {},
   "source": [
    "Now, We can begin answering our research questions"
   ]
  },
  {
   "cell_type": "markdown",
   "id": "65c6176b",
   "metadata": {},
   "source": [
    "**QUESTION 1:** Which age group has the highest median salary?"
   ]
  },
  {
   "cell_type": "markdown",
   "id": "1bd09893",
   "metadata": {},
   "source": [
    "First, we have to create an 'age group' column "
   ]
  },
  {
   "cell_type": "code",
   "execution_count": 238,
   "id": "9f06556b",
   "metadata": {},
   "outputs": [
    {
     "data": {
      "text/html": [
       "<div>\n",
       "<style scoped>\n",
       "    .dataframe tbody tr th:only-of-type {\n",
       "        vertical-align: middle;\n",
       "    }\n",
       "\n",
       "    .dataframe tbody tr th {\n",
       "        vertical-align: top;\n",
       "    }\n",
       "\n",
       "    .dataframe thead th {\n",
       "        text-align: right;\n",
       "    }\n",
       "</style>\n",
       "<table border=\"1\" class=\"dataframe\">\n",
       "  <thead>\n",
       "    <tr style=\"text-align: right;\">\n",
       "      <th></th>\n",
       "      <th>Age</th>\n",
       "      <th>Gender</th>\n",
       "      <th>Job Title</th>\n",
       "      <th>Years of Experience</th>\n",
       "      <th>Salary</th>\n",
       "      <th>Qualification</th>\n",
       "      <th>Age_Group</th>\n",
       "    </tr>\n",
       "  </thead>\n",
       "  <tbody>\n",
       "    <tr>\n",
       "      <th>0</th>\n",
       "      <td>32.0</td>\n",
       "      <td>Male</td>\n",
       "      <td>Software Engineer</td>\n",
       "      <td>5.0</td>\n",
       "      <td>90000.0</td>\n",
       "      <td>Bachelor's</td>\n",
       "      <td>31-40</td>\n",
       "    </tr>\n",
       "    <tr>\n",
       "      <th>1</th>\n",
       "      <td>28.0</td>\n",
       "      <td>Female</td>\n",
       "      <td>Data Analyst</td>\n",
       "      <td>3.0</td>\n",
       "      <td>65000.0</td>\n",
       "      <td>Master's</td>\n",
       "      <td>21-30</td>\n",
       "    </tr>\n",
       "    <tr>\n",
       "      <th>2</th>\n",
       "      <td>45.0</td>\n",
       "      <td>Male</td>\n",
       "      <td>Senior Manager</td>\n",
       "      <td>15.0</td>\n",
       "      <td>150000.0</td>\n",
       "      <td>PhD</td>\n",
       "      <td>41-50</td>\n",
       "    </tr>\n",
       "    <tr>\n",
       "      <th>3</th>\n",
       "      <td>36.0</td>\n",
       "      <td>Female</td>\n",
       "      <td>Sales Associate</td>\n",
       "      <td>7.0</td>\n",
       "      <td>60000.0</td>\n",
       "      <td>Bachelor's</td>\n",
       "      <td>31-40</td>\n",
       "    </tr>\n",
       "    <tr>\n",
       "      <th>4</th>\n",
       "      <td>52.0</td>\n",
       "      <td>Male</td>\n",
       "      <td>Director</td>\n",
       "      <td>20.0</td>\n",
       "      <td>200000.0</td>\n",
       "      <td>Master's</td>\n",
       "      <td>51-62</td>\n",
       "    </tr>\n",
       "  </tbody>\n",
       "</table>\n",
       "</div>"
      ],
      "text/plain": [
       "    Age  Gender          Job Title  Years of Experience    Salary  \\\n",
       "0  32.0    Male  Software Engineer                  5.0   90000.0   \n",
       "1  28.0  Female       Data Analyst                  3.0   65000.0   \n",
       "2  45.0    Male     Senior Manager                 15.0  150000.0   \n",
       "3  36.0  Female    Sales Associate                  7.0   60000.0   \n",
       "4  52.0    Male           Director                 20.0  200000.0   \n",
       "\n",
       "  Qualification Age_Group  \n",
       "0    Bachelor's     31-40  \n",
       "1      Master's     21-30  \n",
       "2           PhD     41-50  \n",
       "3    Bachelor's     31-40  \n",
       "4      Master's     51-62  "
      ]
     },
     "execution_count": 238,
     "metadata": {},
     "output_type": "execute_result"
    }
   ],
   "source": [
    "# Create an 'Age Group' column\n",
    "bin_edges = [21, 31, 41, 51, 63] # Create the bin edges\n",
    "labels = ['21-30', '31-40', '41-50', '51-62'] # Create the labels for the bin edges\n",
    "salary_data_backup['Age_Group'] = pd.cut(salary_data_backup['Age'], bins=bin_edges, labels=labels, include_lowest=True, right=False)\n",
    "salary_data_backup.head()"
   ]
  },
  {
   "cell_type": "code",
   "execution_count": 239,
   "id": "90339ca4",
   "metadata": {},
   "outputs": [
    {
     "data": {
      "text/html": [
       "<div>\n",
       "<style scoped>\n",
       "    .dataframe tbody tr th:only-of-type {\n",
       "        vertical-align: middle;\n",
       "    }\n",
       "\n",
       "    .dataframe tbody tr th {\n",
       "        vertical-align: top;\n",
       "    }\n",
       "\n",
       "    .dataframe thead th {\n",
       "        text-align: right;\n",
       "    }\n",
       "</style>\n",
       "<table border=\"1\" class=\"dataframe\">\n",
       "  <thead>\n",
       "    <tr style=\"text-align: right;\">\n",
       "      <th></th>\n",
       "      <th>Age_Group</th>\n",
       "      <th>median_salary</th>\n",
       "    </tr>\n",
       "  </thead>\n",
       "  <tbody>\n",
       "    <tr>\n",
       "      <th>0</th>\n",
       "      <td>21-30</td>\n",
       "      <td>60000.0</td>\n",
       "    </tr>\n",
       "    <tr>\n",
       "      <th>1</th>\n",
       "      <td>31-40</td>\n",
       "      <td>115000.0</td>\n",
       "    </tr>\n",
       "    <tr>\n",
       "      <th>2</th>\n",
       "      <td>41-50</td>\n",
       "      <td>167962.0</td>\n",
       "    </tr>\n",
       "    <tr>\n",
       "      <th>3</th>\n",
       "      <td>51-62</td>\n",
       "      <td>190000.0</td>\n",
       "    </tr>\n",
       "  </tbody>\n",
       "</table>\n",
       "</div>"
      ],
      "text/plain": [
       "  Age_Group  median_salary\n",
       "0     21-30        60000.0\n",
       "1     31-40       115000.0\n",
       "2     41-50       167962.0\n",
       "3     51-62       190000.0"
      ]
     },
     "execution_count": 239,
     "metadata": {},
     "output_type": "execute_result"
    }
   ],
   "source": [
    "# Get the median salary of each age group\n",
    "age_group_salary = salary_data_backup.groupby('Age_Group')['Salary'].median().reset_index(name='median_salary')\n",
    "age_group_salary"
   ]
  },
  {
   "cell_type": "code",
   "execution_count": 240,
   "id": "141ca497",
   "metadata": {},
   "outputs": [
    {
     "data": {
      "image/png": "[encoded data removed]",
      "text/plain": [
       "<Figure size 720x360 with 1 Axes>"
      ]
     },
     "metadata": {},
     "output_type": "display_data"
    }
   ],
   "source": [
    "plt.style.use('fivethirtyeight') # Set the style for the plot\n",
    "fig = plt.subplots(figsize=(10, 5)) # Set the figure size\n",
    "plot1 = sns.barplot(data=age_group_salary, x='Age_Group', y='median_salary', palette='rocket_r') # Plot the graph\n",
    "plt.xlabel('Age Group')\n",
    "plt.ylabel('Median Salary')\n",
    "plt.title('Median Salary across Age Groups');\n",
    "\n",
    "# Add data labels to the bar chart\n",
    "for p in plot1.patches:   \n",
    "    plot1.text(p.get_x() + p.get_width()/2, p.get_height()/2, f\"${p.get_height():,.0f}\", va='center', ha='center')\n"
   ]
  },
  {
   "cell_type": "markdown",
   "id": "ab7afec8",
   "metadata": {},
   "source": [
    "The analysis revealed that individuals in the **51–62** age group earn the highest median salary, amounting to **$`190,000`**. This suggests that with increasing age, employees tend to earn more, possibly due to accumulated experience and seniority.\n",
    "\n",
    "**Recommendations:**\n",
    "\n",
    "1. Employees should continue to accumulate experience and knowledge in their fields. \n",
    "\n",
    "\n",
    "2. They should also seek out opportunities for career growth and advancement, which often lead to higher earning potential over time."
   ]
  },
  {
   "cell_type": "markdown",
   "id": "208efd65",
   "metadata": {},
   "source": [
    "**QUESTION 2:** Which gender has the highest median salary?"
   ]
  },
  {
   "cell_type": "code",
   "execution_count": 241,
   "id": "66de93b6",
   "metadata": {},
   "outputs": [
    {
     "data": {
      "text/html": [
       "<div>\n",
       "<style scoped>\n",
       "    .dataframe tbody tr th:only-of-type {\n",
       "        vertical-align: middle;\n",
       "    }\n",
       "\n",
       "    .dataframe tbody tr th {\n",
       "        vertical-align: top;\n",
       "    }\n",
       "\n",
       "    .dataframe thead th {\n",
       "        text-align: right;\n",
       "    }\n",
       "</style>\n",
       "<table border=\"1\" class=\"dataframe\">\n",
       "  <thead>\n",
       "    <tr style=\"text-align: right;\">\n",
       "      <th></th>\n",
       "      <th>Gender</th>\n",
       "      <th>median_salary</th>\n",
       "    </tr>\n",
       "  </thead>\n",
       "  <tbody>\n",
       "    <tr>\n",
       "      <th>0</th>\n",
       "      <td>Female</td>\n",
       "      <td>105000.0</td>\n",
       "    </tr>\n",
       "    <tr>\n",
       "      <th>1</th>\n",
       "      <td>Male</td>\n",
       "      <td>120000.0</td>\n",
       "    </tr>\n",
       "    <tr>\n",
       "      <th>2</th>\n",
       "      <td>Other</td>\n",
       "      <td>158254.0</td>\n",
       "    </tr>\n",
       "  </tbody>\n",
       "</table>\n",
       "</div>"
      ],
      "text/plain": [
       "   Gender  median_salary\n",
       "0  Female       105000.0\n",
       "1    Male       120000.0\n",
       "2   Other       158254.0"
      ]
     },
     "execution_count": 241,
     "metadata": {},
     "output_type": "execute_result"
    }
   ],
   "source": [
    "gender_salary = salary_data_backup.groupby('Gender')['Salary'].median().reset_index(name='median_salary')\n",
    "gender_salary"
   ]
  },
  {
   "cell_type": "code",
   "execution_count": 242,
   "id": "4765e312",
   "metadata": {},
   "outputs": [
    {
     "data": {
      "image/png": "[encoded data removed]",
      "text/plain": [
       "<Figure size 720x360 with 1 Axes>"
      ]
     },
     "metadata": {},
     "output_type": "display_data"
    }
   ],
   "source": [
    "plt.style.use('fivethirtyeight') # Set the style for the plot\n",
    "fig = plt.subplots(figsize=(10, 5)) # Set the figure size \n",
    "plot2 = sns.barplot(data=gender_salary, x='Gender', y='median_salary', palette='rocket_r')\n",
    "plt.xlabel('Gender')\n",
    "plt.ylabel('Median Salary')\n",
    "plt.title('Median Salary across Gender')\n",
    "\n",
    "# Add data labela to the chart\n",
    "for p in g.patches:\n",
    "    plot2.text(p.get_x() + p.get_width()/2, p.get_height()/2, f\"${p.get_height():,.0f}\", va='center', ha='center')"
   ]
  },
  {
   "cell_type": "markdown",
   "id": "7c1eb165",
   "metadata": {},
   "source": [
    "The data shows that **male employees** command a higher median salary of **`$120,000`** compared to their **female** counterparts, who earn **$105,000**. This suggests that gender-based compensation disparities exist in the workplace.\n",
    "\n",
    "**Recommendation:**\n",
    "\n",
    "The Organization should adopt transparent compensation policies and actively monitor and address any gender-based pay disparities. "
   ]
  },
  {
   "cell_type": "markdown",
   "id": "267c171d",
   "metadata": {},
   "source": [
    "**QUESTION 3:**  Which education Level commands the highest median salary?"
   ]
  },
  {
   "cell_type": "code",
   "execution_count": 243,
   "id": "3f7e8a4e",
   "metadata": {},
   "outputs": [
    {
     "data": {
      "text/html": [
       "<div>\n",
       "<style scoped>\n",
       "    .dataframe tbody tr th:only-of-type {\n",
       "        vertical-align: middle;\n",
       "    }\n",
       "\n",
       "    .dataframe tbody tr th {\n",
       "        vertical-align: top;\n",
       "    }\n",
       "\n",
       "    .dataframe thead th {\n",
       "        text-align: right;\n",
       "    }\n",
       "</style>\n",
       "<table border=\"1\" class=\"dataframe\">\n",
       "  <thead>\n",
       "    <tr style=\"text-align: right;\">\n",
       "      <th></th>\n",
       "      <th>Qualification</th>\n",
       "      <th>median_salary</th>\n",
       "    </tr>\n",
       "  </thead>\n",
       "  <tbody>\n",
       "    <tr>\n",
       "      <th>0</th>\n",
       "      <td>PhD</td>\n",
       "      <td>170000.0</td>\n",
       "    </tr>\n",
       "    <tr>\n",
       "      <th>1</th>\n",
       "      <td>Master's</td>\n",
       "      <td>126916.0</td>\n",
       "    </tr>\n",
       "    <tr>\n",
       "      <th>2</th>\n",
       "      <td>Bachelor's</td>\n",
       "      <td>80000.0</td>\n",
       "    </tr>\n",
       "    <tr>\n",
       "      <th>3</th>\n",
       "      <td>High School</td>\n",
       "      <td>35000.0</td>\n",
       "    </tr>\n",
       "  </tbody>\n",
       "</table>\n",
       "</div>"
      ],
      "text/plain": [
       "  Qualification  median_salary\n",
       "0           PhD       170000.0\n",
       "1      Master's       126916.0\n",
       "2    Bachelor's        80000.0\n",
       "3   High School        35000.0"
      ]
     },
     "execution_count": 243,
     "metadata": {},
     "output_type": "execute_result"
    }
   ],
   "source": [
    "# Get the median salaries of employees based on their qualifications\n",
    "qualification_salary = salary_data_backup.groupby('Qualification')['Salary'].median().nlargest(10).reset_index(name='median_salary')\n",
    "qualification_salary_sorted = qualification_salary.sort_values(by='median_salary', ascending=False)\n",
    "qualification_salary_sorted"
   ]
  },
  {
   "cell_type": "code",
   "execution_count": 244,
   "id": "1586a8ab",
   "metadata": {},
   "outputs": [
    {
     "data": {
      "image/png": "[encoded data removed]",
      "text/plain": [
       "<Figure size 720x360 with 1 Axes>"
      ]
     },
     "metadata": {},
     "output_type": "display_data"
    }
   ],
   "source": [
    "fig = plt.subplots(figsize=(10, 5)) # sets the figsize\n",
    "plot3 = sns.barplot(data=qualification_salary_sorted, x='Qualification', y='median_salary', palette='rocket') # Creates a bar chart\n",
    "plt.xlabel('Qualification')\n",
    "plt.ylabel('Median Salary')\n",
    "plt.title('Median Salary across Qualifications')\n",
    "\n",
    "# Add data lebels to the chart\n",
    "for p in plot3.patches:\n",
    "    plot3.text(p.get_x() + p.get_width()/2, p.get_height()/2, f\"${p.get_height():,.0f}\", va='center', ha='center')"
   ]
  },
  {
   "cell_type": "markdown",
   "id": "b0fb1743",
   "metadata": {},
   "source": [
    "The data reveals that individuals with advanced degrees, including doctoral and master's degrees, command the highest median salaries. This highlights the potential salary benefits of acquiring these qualifications.\n",
    "\n",
    "**Recommendation:**\n",
    "\n",
    "Employees should consider pursuing advanced degrees to boost their earning potential in today's competitive job market."
   ]
  },
  {
   "cell_type": "markdown",
   "id": "e634036c",
   "metadata": {},
   "source": [
    "**QUESTION 4:** Which job role earns the highest median salary?"
   ]
  },
  {
   "cell_type": "code",
   "execution_count": 245,
   "id": "5e37a464",
   "metadata": {},
   "outputs": [
    {
     "data": {
      "text/html": [
       "<div>\n",
       "<style scoped>\n",
       "    .dataframe tbody tr th:only-of-type {\n",
       "        vertical-align: middle;\n",
       "    }\n",
       "\n",
       "    .dataframe tbody tr th {\n",
       "        vertical-align: top;\n",
       "    }\n",
       "\n",
       "    .dataframe thead th {\n",
       "        text-align: right;\n",
       "    }\n",
       "</style>\n",
       "<table border=\"1\" class=\"dataframe\">\n",
       "  <thead>\n",
       "    <tr style=\"text-align: right;\">\n",
       "      <th></th>\n",
       "      <th>Job Title</th>\n",
       "      <th>median_salary</th>\n",
       "    </tr>\n",
       "  </thead>\n",
       "  <tbody>\n",
       "    <tr>\n",
       "      <th>0</th>\n",
       "      <td>CEO</td>\n",
       "      <td>250000.0</td>\n",
       "    </tr>\n",
       "    <tr>\n",
       "      <th>1</th>\n",
       "      <td>Chief Technology Officer</td>\n",
       "      <td>250000.0</td>\n",
       "    </tr>\n",
       "    <tr>\n",
       "      <th>2</th>\n",
       "      <td>Chief Data Officer</td>\n",
       "      <td>220000.0</td>\n",
       "    </tr>\n",
       "    <tr>\n",
       "      <th>3</th>\n",
       "      <td>Director of Data Science</td>\n",
       "      <td>210000.0</td>\n",
       "    </tr>\n",
       "    <tr>\n",
       "      <th>4</th>\n",
       "      <td>Director</td>\n",
       "      <td>200000.0</td>\n",
       "    </tr>\n",
       "    <tr>\n",
       "      <th>5</th>\n",
       "      <td>VP of Finance</td>\n",
       "      <td>200000.0</td>\n",
       "    </tr>\n",
       "    <tr>\n",
       "      <th>6</th>\n",
       "      <td>Operations Director</td>\n",
       "      <td>190000.0</td>\n",
       "    </tr>\n",
       "    <tr>\n",
       "      <th>7</th>\n",
       "      <td>VP of Operations</td>\n",
       "      <td>190000.0</td>\n",
       "    </tr>\n",
       "    <tr>\n",
       "      <th>8</th>\n",
       "      <td>Director of Human Resources</td>\n",
       "      <td>187500.0</td>\n",
       "    </tr>\n",
       "    <tr>\n",
       "      <th>9</th>\n",
       "      <td>Software Engineer Manager</td>\n",
       "      <td>180958.0</td>\n",
       "    </tr>\n",
       "  </tbody>\n",
       "</table>\n",
       "</div>"
      ],
      "text/plain": [
       "                     Job Title  median_salary\n",
       "0                          CEO       250000.0\n",
       "1     Chief Technology Officer       250000.0\n",
       "2           Chief Data Officer       220000.0\n",
       "3     Director of Data Science       210000.0\n",
       "4                     Director       200000.0\n",
       "5                VP of Finance       200000.0\n",
       "6          Operations Director       190000.0\n",
       "7             VP of Operations       190000.0\n",
       "8  Director of Human Resources       187500.0\n",
       "9    Software Engineer Manager       180958.0"
      ]
     },
     "execution_count": 245,
     "metadata": {},
     "output_type": "execute_result"
    }
   ],
   "source": [
    "# Get the top 10 highest paid employees\n",
    "employee_salary = salary_data_backup.groupby('Job Title')['Salary'].median().nlargest(10).reset_index(name='median_salary')\n",
    "employee_salary"
   ]
  },
  {
   "cell_type": "code",
   "execution_count": 246,
   "id": "45844caf",
   "metadata": {},
   "outputs": [
    {
     "data": {
      "image/png": "[encoded data removed]",
      "text/plain": [
       "<Figure size 720x360 with 1 Axes>"
      ]
     },
     "metadata": {},
     "output_type": "display_data"
    }
   ],
   "source": [
    "fig = plt.subplots(figsize=(10, 5)) # Sets the figure size \n",
    "plot4 = sns.barplot(data=employee_salary, x='Job Title', y='median_salary', palette='rocket') # Creates a bar chart\n",
    "plt.xlabel('Job Title')\n",
    "plot4.set_xticklabels(plot4.get_xticklabels(), rotation=45, ha='right')\n",
    "plt.ylabel('Median Salary')\n",
    "plt.title(' Median Salary across Job Titles');"
   ]
  },
  {
   "cell_type": "markdown",
   "id": "936f6fa5",
   "metadata": {},
   "source": [
    "The analysis indicates that CEOs and Chief Technology Officers earn the highest salaries. This pattern suggests that\n",
    "executive and leadership roles offer the best salary opportunities.\n",
    "\n",
    "**Recommendation:**\n",
    "\n",
    "Employees should strive to attain top level positions to boost their earning potential."
   ]
  },
  {
   "cell_type": "markdown",
   "id": "255c10b6",
   "metadata": {},
   "source": [
    "**QUESTION 5:**  What is the prevalent education level among the top earning professionals?"
   ]
  },
  {
   "cell_type": "code",
   "execution_count": 247,
   "id": "1add329e",
   "metadata": {},
   "outputs": [],
   "source": [
    "# Get the qualifications of the top earners\n",
    "top_earners_qualification = salary_data_backup.groupby(\n",
    "    ['Job Title', 'Qualification'])['Salary'].median().nlargest(10).reset_index()"
   ]
  },
  {
   "cell_type": "code",
   "execution_count": 248,
   "id": "df4f6c9f",
   "metadata": {},
   "outputs": [
    {
     "data": {
      "image/png": "[encoded data removed]",
      "text/plain": [
       "<Figure size 720x360 with 1 Axes>"
      ]
     },
     "metadata": {},
     "output_type": "display_data"
    }
   ],
   "source": [
    "fig = plt.subplots(figsize=(10, 5)) # Set the figure size\n",
    "plot5 = sns.countplot(data=top_earners_qualification, x='Qualification', palette='RdPu') # Create a bar chart\n",
    "plt.xlabel('Qualification') \n",
    "plt.ylabel('Count')\n",
    "plt.title('Prevalent Qualification among Top Earners');"
   ]
  },
  {
   "cell_type": "markdown",
   "id": "cdb7e6ad",
   "metadata": {},
   "source": [
    "The data shows that top earners predominantly hold master's and doctoral degrees. This finding indicates that advanced degrees like these often lead to higher incomes.\n",
    "\n",
    "**Recommendation:**\n",
    "\n",
    "Employees are encouraged to pursue advanced degrees to unlock opportunities for higher-paying positions and increase their earning potential"
   ]
  },
  {
   "cell_type": "markdown",
   "id": "5d736c69",
   "metadata": {},
   "source": [
    "**QUESTION 6:**  Are there any correlations between Age, Salary and working experience?"
   ]
  },
  {
   "cell_type": "code",
   "execution_count": 249,
   "id": "f52939ff",
   "metadata": {},
   "outputs": [
    {
     "data": {
      "image/png": "[encoded data removed]",
      "text/plain": [
       "<Figure size 720x360 with 2 Axes>"
      ]
     },
     "metadata": {},
     "output_type": "display_data"
    }
   ],
   "source": [
    "fig = plt.subplots(figsize=(10, 5)) # Set the figure size\n",
    "corr_dataset = salary_data_backup[['Age', 'Salary', 'Years of Experience']] # Select the required columns\n",
    "corr_table = corr_dataset.corr() # Create a correlation table\n",
    "sns.heatmap(data=corr_table, cmap='coolwarm', annot=True) # Create a heatmap\n",
    "plt.xticks(rotation= 40, ha='right') # Rotate the x-axis labels\n",
    "plt.yticks(rotation=40, va='center_baseline') # Rotate the y-axis labels\n",
    "plt.title('Correlation Heatmap Matrix');"
   ]
  },
  {
   "cell_type": "markdown",
   "id": "e15ce578",
   "metadata": {},
   "source": [
    "From the matrix above, we can deduce the following:\n",
    "\n",
    "1. There is a very strong correlation (r = 0.94) between age and years of experience. This underscores the premise that as individuals age, their reservoir of experience tends grows considerably.\n",
    "\n",
    "\n",
    "2. Additionally, we identified a strong correlation (r = 0.82) between salary and years of experience. This suggests a trend where greater years of experience translate into higher salary prospects.\n",
    "\n",
    "\n",
    "3. Furthermore, a strong correlation (r = 0.77) exists between age and salary. This trend implies that age positively influences salary, potentially owing to the accumulation of extensive professional experience and expertise over the years.\n",
    "\n",
    "\n",
    "**RECOMMENDATION:**\n",
    "\n",
    "Employees  should proactively seek opportunities to gain valuable work experience to enhance their earning potential. \n"
   ]
  },
  {
   "cell_type": "markdown",
   "id": "31be4d2a",
   "metadata": {},
   "source": [
    "In this project, we've revealed the essential factors shaping salary prospects and offered practical recommendations. Implementing these suggestions can help individuals secure higher salaries and additional employee benefits.\n",
    "\n",
    "\n",
    "Thank you for your time and attention!"
   ]
  }
 ],
 "metadata": {
  "kernelspec": {
   "display_name": "Python 3 (ipykernel)",
   "language": "python",
   "name": "python3"
  },
  "language_info": {
   "codemirror_mode": {
    "name": "ipython",
    "version": 3
   },
   "file_extension": ".py",
   "mimetype": "text/x-python",
   "name": "python",
   "nbconvert_exporter": "python",
   "pygments_lexer": "ipython3",
   "version": "3.9.7"
  }
 },
 "nbformat": 4,
 "nbformat_minor": 5
}
